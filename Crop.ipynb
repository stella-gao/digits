{
 "cells": [
  {
   "cell_type": "code",
   "execution_count": 1,
   "metadata": {
    "collapsed": false
   },
   "outputs": [
    {
     "name": "stdout",
     "output_type": "stream",
     "text": [
      "Populating the interactive namespace from numpy and matplotlib\n"
     ]
    }
   ],
   "source": [
    "pylab inline"
   ]
  },
  {
   "cell_type": "code",
   "execution_count": 168,
   "metadata": {
    "collapsed": false
   },
   "outputs": [],
   "source": [
    "from scipy.io import wavfile"
   ]
  },
  {
   "cell_type": "code",
   "execution_count": 169,
   "metadata": {
    "collapsed": false
   },
   "outputs": [
    {
     "name": "stdout",
     "output_type": "stream",
     "text": [
      "[0 0 0 ..., 0 0 0]\n"
     ]
    },
    {
     "data": {
      "image/png": "[encoded data removed]",
      "text/plain": [
       "<matplotlib.figure.Figure at 0x7f4b338ebed0>"
      ]
     },
     "metadata": {},
     "output_type": "display_data"
    }
   ],
   "source": [
    "fs, sig = wavfile.read('FDC_1A.wav') \n",
    "# print(\"sampling rate = {} Hz, length = {} samples, channels = {}\".format(fs, *sig.shape))\n",
    "print(sig)\n",
    "plot(sig);"
   ]
  },
  {
   "cell_type": "code",
   "execution_count": 170,
   "metadata": {
    "collapsed": false
   },
   "outputs": [
    {
     "data": {
      "text/plain": [
       "array([ 0.5,  1.5,  2.5,  4. ,  5.5,  6.5,  7.5,  8. ,  7.5,  6.5,  5.5,\n",
       "        4.5,  3.5,  2.5,  1.5,  0.5])"
      ]
     },
     "execution_count": 170,
     "metadata": {},
     "output_type": "execute_result"
    }
   ],
   "source": [
    "a = range(10)\n",
    "N = 2\n",
    "np.convolve(x,  np.ones((N,))/N, mode='valid')"
   ]
  },
  {
   "cell_type": "code",
   "execution_count": 171,
   "metadata": {
    "collapsed": false
   },
   "outputs": [
    {
     "name": "stdout",
     "output_type": "stream",
     "text": [
      "[0, 1, 4, 9, 16, 25, 36, 49, 64, 64, 49, 36, 25, 16, 9, 4, 1, 0]\n",
      "[  0.5   2.5   6.5  12.5  20.5  30.5  42.5  56.5  64.   56.5  42.5  30.5\n",
      "  20.5  12.5   6.5   2.5   0.5]\n",
      "6.4\n",
      "2\n",
      "2\n",
      "[  6.5  12.5  20.5  30.5  42.5  56.5  64.   56.5  42.5  30.5  20.5  12.5\n",
      "   6.5]\n"
     ]
    }
   ],
   "source": [
    "x = range(9) + list(reversed(range(9)))\n",
    "\n",
    "def crop1D_list(lst, win_size):\n",
    "    # lst is a list of data, win_size is the moving average window size\n",
    "    \n",
    "    # square the list\n",
    "    squares = [x ** 2 for x in lst]\n",
    "     \n",
    "    # take a moving average with window size N\n",
    "    moving_avg = np.convolve(squares,  np.ones((win_size,))/win_size, mode='valid')\n",
    "    \n",
    "    # find threshold\n",
    "    threshold = max(moving_avg)/10\n",
    "    \n",
    "    # find timepoint larger than threshold and last time point smaller than threshold \n",
    "    first = next(x[0] for x in enumerate(moving_avg) if x[1] > threshold)\n",
    "    last = next(x[0] for x in enumerate(reversed(moving_avg)) if x[1] > threshold)\n",
    "\n",
    "    \n",
    "    # get cropped list\n",
    "    out = moving_avg[first:-last]\n",
    "\n",
    "    print squares\n",
    "    print moving_avg\n",
    "    print threshold\n",
    "    print first\n",
    "    print last\n",
    "    print out\n",
    "    return\n",
    "\n",
    "crop1D_list(x, 2)"
   ]
  },
  {
   "cell_type": "code",
   "execution_count": 172,
   "metadata": {
    "collapsed": false
   },
   "outputs": [
    {
     "name": "stdout",
     "output_type": "stream",
     "text": [
      "3\n",
      "2\n",
      "[3, 5, 1, 3, 4, 3]\n"
     ]
    }
   ],
   "source": [
    "lst = [0, 1, 2, 3, 5, 1, 3, 4, 3, 2, 1]\n",
    "\n",
    "def first_last_idx(lst, threshold):\n",
    "    \n",
    "    # find first\n",
    "    first = next(x[0] for x in enumerate(lst) if x[1] > threshold)\n",
    "    \n",
    "    # find last\n",
    "    last = next(x[0] for x in enumerate(reversed(lst)) if x[1] > threshold)\n",
    "\n",
    "    \n",
    "    print first\n",
    "    print last\n",
    "    \n",
    "    # get cropped list\n",
    "    print lst[first:-last]\n",
    "    \n",
    "    return\n",
    "\n",
    "first_last_idx(lst, 2.5)"
   ]
  },
  {
   "cell_type": "code",
   "execution_count": 173,
   "metadata": {
    "collapsed": false
   },
   "outputs": [
    {
     "name": "stdout",
     "output_type": "stream",
     "text": [
      "[0, 1, 2, 3, 5, 1, 3, 4, 3, 2, 1]\n",
      "[(0, 0), (1, 1), (2, 2), (3, 3), (4, 5), (5, 1), (6, 3), (7, 4), (8, 3), (9, 2), (10, 1)]\n",
      "[(0, 1), (1, 2), (2, 3), (3, 4), (4, 3), (5, 1), (6, 5), (7, 3), (8, 2), (9, 1), (10, 0)]\n"
     ]
    }
   ],
   "source": [
    "print lst\n",
    "print list(enumerate(lst))\n",
    "print list(enumerate(reversed(lst)))"
   ]
  },
  {
   "cell_type": "code",
   "execution_count": 174,
   "metadata": {
    "collapsed": false
   },
   "outputs": [
    {
     "data": {
      "text/plain": [
       "[2, 3, 4, 5, 6]"
      ]
     },
     "execution_count": 174,
     "metadata": {},
     "output_type": "execute_result"
    }
   ],
   "source": [
    "a[2:-3]"
   ]
  },
  {
   "cell_type": "code",
   "execution_count": 175,
   "metadata": {
    "collapsed": false
   },
   "outputs": [
    {
     "name": "stdout",
     "output_type": "stream",
     "text": [
      "[0, 1, 2, 3, 4, 5, 6, 7, 8, 8, 7, 6, 5, 4, 3, 2, 1, 0]\n"
     ]
    }
   ],
   "source": [
    "x = range(9) + list(reversed(range(9)))\n",
    "print x"
   ]
  },
  {
   "cell_type": "code",
   "execution_count": 176,
   "metadata": {
    "collapsed": false
   },
   "outputs": [
    {
     "data": {
      "text/plain": [
       "5"
      ]
     },
     "execution_count": 176,
     "metadata": {},
     "output_type": "execute_result"
    }
   ],
   "source": [
    "abs(-5)"
   ]
  },
  {
   "cell_type": "code",
   "execution_count": 177,
   "metadata": {
    "collapsed": false
   },
   "outputs": [
    {
     "data": {
      "text/plain": [
       "(1, 17)"
      ]
     },
     "execution_count": 177,
     "metadata": {},
     "output_type": "execute_result"
    }
   ],
   "source": [
    "x = np.array([0,1,2,3,5,6,7,8,8,7,6,5,4,3,2,1,0])\n",
    "x1 = [0,1,2,3,5,6,7,8,8,7,6,5,4,3,2,1,0]\n",
    "def crop_timepoints_1_array(np1Darray, win_size, thresh_ratio):\n",
    "    # lst is a list of data, win_size is the moving average window size\n",
    "    \n",
    "    # absolute values (so moving average stays positive)\n",
    "    abs_val = [abs(x) for x in np1Darray]\n",
    "     \n",
    "    # take a moving average with window size N\n",
    "    moving_avg = np.convolve(abs_val,  np.ones((win_size,))/win_size, mode='valid')\n",
    "    \n",
    "    # find threshold\n",
    "    threshold = max(moving_avg) * thresh_ratio\n",
    "    \n",
    "    # find timepoint larger than threshold and last time point smaller than threshold \n",
    "    first = next(x[0] for x in enumerate(moving_avg) if x[1] > threshold)\n",
    "    last = next(x[0] for x in enumerate(reversed(moving_avg)) if x[1] > threshold)\n",
    "\n",
    "    \n",
    "    # get cropped list\n",
    "    #out = moving_avg[first:-last]\n",
    "\n",
    "    #print squares\n",
    "    #print moving_avg\n",
    "    #print threshold\n",
    "    #print first\n",
    "    #print last\n",
    "    #print out\n",
    "    return first, len(moving_avg) - last + win_size\n",
    "\n",
    "crop_timepoints_1_array(x1, 2, 0.1)"
   ]
  },
  {
   "cell_type": "code",
   "execution_count": 178,
   "metadata": {
    "collapsed": false
   },
   "outputs": [
    {
     "name": "stdout",
     "output_type": "stream",
     "text": [
      "[0 0 0 ..., 0 0 0]\n"
     ]
    },
    {
     "data": {
      "text/plain": [
       "[<matplotlib.lines.Line2D at 0x7f4b335c45d0>]"
      ]
     },
     "execution_count": 178,
     "metadata": {},
     "output_type": "execute_result"
    },
    {
     "data": {
      "image/png": "[encoded data removed]",
      "text/plain": [
       "<matplotlib.figure.Figure at 0x7f4b337236d0>"
      ]
     },
     "metadata": {},
     "output_type": "display_data"
    }
   ],
   "source": [
    "fs, sig = wavfile.read('FDC_1A.wav') \n",
    "# print(\"sampling rate = {} Hz, length = {} samples, channels = {}\".format(fs, *sig.shape))\n",
    "print(sig)\n",
    "plot(sig)"
   ]
  },
  {
   "cell_type": "code",
   "execution_count": 179,
   "metadata": {
    "collapsed": false
   },
   "outputs": [
    {
     "data": {
      "text/plain": [
       "[<matplotlib.lines.Line2D at 0x7f4b3373db90>]"
      ]
     },
     "execution_count": 179,
     "metadata": {},
     "output_type": "execute_result"
    },
    {
     "data": {
      "image/png": "[encoded data removed]",
      "text/plain": [
       "<matplotlib.figure.Figure at 0x7f4b33a01d90>"
      ]
     },
     "metadata": {},
     "output_type": "display_data"
    }
   ],
   "source": [
    "fs2, sig2 = wavfile.read('FAC_1A.wav') \n",
    "# print(\"sampling rate = {} Hz, length = {} samples, channels = {}\".format(fs, *sig.shape))\n",
    "plot(sig2)"
   ]
  },
  {
   "cell_type": "code",
   "execution_count": 180,
   "metadata": {
    "collapsed": false
   },
   "outputs": [
    {
     "name": "stdout",
     "output_type": "stream",
     "text": [
      "(3234, 7007)\n",
      "(1016, 4537)\n"
     ]
    },
    {
     "data": {
      "text/plain": [
       "<matplotlib.lines.Line2D at 0x7f4b33736d90>"
      ]
     },
     "execution_count": 180,
     "metadata": {},
     "output_type": "execute_result"
    },
    {
     "data": {
      "image/png": "[encoded data removed]",
      "text/plain": [
       "<matplotlib.figure.Figure at 0x7f4b33736790>"
      ]
     },
     "metadata": {},
     "output_type": "display_data"
    }
   ],
   "source": [
    "print crop_1_array(sig, 1000, 0.1)\n",
    "print crop_1_array(sig2, 1000, 0.1)\n",
    "\n",
    "plot(sig2)\n",
    "first, last = crop_1_array(sig2, 1000, 0.05)\n",
    "axvline(first)\n",
    "axvline(last)"
   ]
  },
  {
   "cell_type": "code",
   "execution_count": 181,
   "metadata": {
    "collapsed": false
   },
   "outputs": [
    {
     "data": {
      "image/png": "[encoded data removed]",
      "text/plain": [
       "<matplotlib.figure.Figure at 0x7f4b3375da10>"
      ]
     },
     "metadata": {},
     "output_type": "display_data"
    }
   ],
   "source": [
    "# function to take .wav, find cropping time points and print\n",
    "\n",
    "def plot_crop_points_file(wfile, win_size, thresh_ratio):\n",
    "    \n",
    "    fs, sig = wavfile.read(wfile) \n",
    "\n",
    "    \n",
    "    plot(sig)\n",
    "    \n",
    "    first, last = crop_timepoints_1_array(sig, win_size, thresh_ratio)\n",
    "    axvline(first)\n",
    "    axvline(last)\n",
    "    return\n",
    "\n",
    "plot_crop_points_file('MBD_4A.wav', 1000, 0.05)"
   ]
  },
  {
   "cell_type": "code",
   "execution_count": 182,
   "metadata": {
    "collapsed": false
   },
   "outputs": [
    {
     "data": {
      "image/png": "[encoded data removed]",
      "text/plain": [
       "<matplotlib.figure.Figure at 0x7f4b33757350>"
      ]
     },
     "metadata": {},
     "output_type": "display_data"
    }
   ],
   "source": [
    "# function to take a waveform (already read in), find cropping time points and print\n",
    "\n",
    "def plot_crop_points_sig(sig, win_size, thresh_ratio):\n",
    "    \n",
    "    plot(sig)\n",
    "    \n",
    "    first, last = crop_timepoints_1_array(sig, win_size, thresh_ratio)\n",
    "    axvline(first)\n",
    "    axvline(last)\n",
    "    return\n",
    "\n",
    "plot_crop_points_sig(sig, 1000, 0.05)"
   ]
  },
  {
   "cell_type": "code",
   "execution_count": 183,
   "metadata": {
    "collapsed": false
   },
   "outputs": [
    {
     "name": "stdout",
     "output_type": "stream",
     "text": [
      "[array([1, 3, 6, 4, 3, 0]), array([0, 1, 4, 1, 3, 5, 4, 3, 1]), array([1, 5, 8, 7, 3, 7, 3, 2])]\n"
     ]
    },
    {
     "data": {
      "text/plain": [
       "list"
      ]
     },
     "execution_count": 183,
     "metadata": {},
     "output_type": "execute_result"
    }
   ],
   "source": [
    "# list of arrays\n",
    "a1 = np.array([1,3,6,4,3,0])\n",
    "a2 = np.array([0,1,4,1,3,5,4,3,1])\n",
    "a3 = np.array([1,5,8,7,3,7,3,2])\n",
    "list_arrays = [a1, a2, a3]\n",
    "\n",
    "print list_arrays\n",
    "type(list_arrays)"
   ]
  },
  {
   "cell_type": "code",
   "execution_count": 195,
   "metadata": {
    "collapsed": false
   },
   "outputs": [
    {
     "name": "stdout",
     "output_type": "stream",
     "text": [
      "(0, 7)\n"
     ]
    },
    {
     "data": {
      "text/plain": [
       "[array([1, 3, 6, 4, 3, 0]),\n",
       " array([0, 1, 4, 1, 3, 5, 4, 3, 1]),\n",
       " array([1, 5, 8, 7, 3, 7, 3, 2])]"
      ]
     },
     "execution_count": 195,
     "metadata": {},
     "output_type": "execute_result"
    }
   ],
   "source": [
    "# apply crop_1_array to each item of a list\n",
    "\n",
    "print crop_timepoints_1_array(a1, 2, 0.1)\n",
    "\n",
    "def crop_timepoints_list_arrays(list_array, win_size, thresh_ratio):\n",
    "    cropped = []\n",
    "    for array in list_array:\n",
    "        cropped.append(crop_timepoints_1_array(array, win_size, thresh_ratio))\n",
    "    \n",
    "    return cropped\n",
    "\n",
    "crop_list_arrays(list_arrays, 2, 0.1)"
   ]
  },
  {
   "cell_type": "code",
   "execution_count": 184,
   "metadata": {
    "collapsed": false
   },
   "outputs": [
    {
     "name": "stdout",
     "output_type": "stream",
     "text": [
      "(0, 7)\n"
     ]
    },
    {
     "data": {
      "text/plain": [
       "[(0, 7), (0, 10), (0, 9)]"
      ]
     },
     "execution_count": 184,
     "metadata": {},
     "output_type": "execute_result"
    }
   ],
   "source": [
    "# apply crop_1_array to each item of a list\n",
    "\n",
    "print crop_1_array(a1, 2, 0.1)\n",
    "\n",
    "def crop_list_arrays(list_array, win_size, thresh_ratio):\n",
    "    cropped = []\n",
    "    for array in list_array:\n",
    "        cropped.append(crop_1_array(array, win_size, thresh_ratio))\n",
    "    \n",
    "    return cropped\n",
    "\n",
    "crop_list_arrays(list_arrays, 2, 0.1)"
   ]
  },
  {
   "cell_type": "code",
   "execution_count": 185,
   "metadata": {
    "collapsed": false
   },
   "outputs": [
    {
     "name": "stdout",
     "output_type": "stream",
     "text": [
      "(3118, 7286) (933, 4633) (2102, 4870)\n"
     ]
    }
   ],
   "source": [
    "t1 = crop_1_array(sig, 1000, 0.05)\n",
    "t2 = crop_1_array(sig2, 1000, 0.05)\n",
    "t3 = crop_1_array(sig3, 1000, 0.05)\n",
    "\n",
    "print t1, t2, t3\n"
   ]
  },
  {
   "cell_type": "code",
   "execution_count": 200,
   "metadata": {
    "collapsed": false
   },
   "outputs": [
    {
     "data": {
      "text/plain": [
       "[<matplotlib.lines.Line2D at 0x7f4b333f4f50>]"
      ]
     },
     "execution_count": 200,
     "metadata": {},
     "output_type": "execute_result"
    },
    {
     "data": {
      "image/png": "[encoded data removed]",
      "text/plain": [
       "<matplotlib.figure.Figure at 0x7f4b33c45050>"
      ]
     },
     "metadata": {},
     "output_type": "display_data"
    }
   ],
   "source": [
    "sig_list = [sig, sig2, sig3]\n",
    "\n",
    "crop_timepoints_list_arrays(sig_list, 1000, 0.05)\n",
    "\n",
    "cropped_list = crop_list_arrays(sig_list, 1000, 0.05)\n",
    "\n",
    "plot(cropped_list[2])\n",
    "\n",
    "# crop_list_arrays(sig_list, 1000, 0.05)"
   ]
  },
  {
   "cell_type": "code",
   "execution_count": 193,
   "metadata": {
    "collapsed": false
   },
   "outputs": [
    {
     "name": "stdout",
     "output_type": "stream",
     "text": [
      "(3118, 7286)\n"
     ]
    },
    {
     "data": {
      "text/plain": [
       "[<matplotlib.lines.Line2D at 0x7f4b33562b50>]"
      ]
     },
     "execution_count": 193,
     "metadata": {},
     "output_type": "execute_result"
    },
    {
     "data": {
      "image/png": "[encoded data removed]",
      "text/plain": [
       "<matplotlib.figure.Figure at 0x7f4b338cea90>"
      ]
     },
     "metadata": {},
     "output_type": "display_data"
    }
   ],
   "source": [
    "# function to crop an array\n",
    "\n",
    "def crop_1_array(array, win_size, thresh_ratio):\n",
    "    \n",
    "    first, last = crop_timepoints_1_array(array, win_size, thresh_ratio)\n",
    "    out = array[first:last]\n",
    "    return out\n",
    "\n",
    "sig_crop = crop_1_array(sig, 1000, 0.05)\n",
    "\n",
    "print(crop_timepoints_1_array(sig, 1000, 0.05))\n",
    "plot(sig_crop)"
   ]
  },
  {
   "cell_type": "code",
   "execution_count": 194,
   "metadata": {
    "collapsed": false
   },
   "outputs": [
    {
     "data": {
      "text/plain": [
       "[<matplotlib.lines.Line2D at 0x7f4b334b8250>]"
      ]
     },
     "execution_count": 194,
     "metadata": {},
     "output_type": "execute_result"
    },
    {
     "data": {
      "image/png": "[encoded data removed]",
      "text/plain": [
       "<matplotlib.figure.Figure at 0x7f4b339c5f50>"
      ]
     },
     "metadata": {},
     "output_type": "display_data"
    }
   ],
   "source": [
    "plot(sig[3118:7286])"
   ]
  },
  {
   "cell_type": "code",
   "execution_count": null,
   "metadata": {
    "collapsed": false
   },
   "outputs": [],
   "source": []
  }
 ],
 "metadata": {
  "kernelspec": {
   "display_name": "Python 2",
   "language": "python",
   "name": "python2"
  },
  "language_info": {
   "codemirror_mode": {
    "name": "ipython",
    "version": 2
   },
   "file_extension": ".py",
   "mimetype": "text/x-python",
   "name": "python",
   "nbconvert_exporter": "python",
   "pygments_lexer": "ipython2",
   "version": "2.7.10"
  }
 },
 "nbformat": 4,
 "nbformat_minor": 0
}
